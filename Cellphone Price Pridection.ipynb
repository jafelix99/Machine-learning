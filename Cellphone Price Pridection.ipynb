{
 "cells": [
  {
   "cell_type": "markdown",
   "metadata": {},
   "source": [
    "Importing Libraries"
   ]
  },
  {
   "cell_type": "code",
   "execution_count": 2,
   "metadata": {},
   "outputs": [],
   "source": [
    "import numpy as np\n",
    "import pandas as pd \n",
    "import matplotlib.pyplot as plt\n",
    "import seaborn as sns\n",
    "from warnings import filterwarnings\n",
    "filterwarnings(\"ignore\")"
   ]
  },
  {
   "cell_type": "code",
   "execution_count": 3,
   "metadata": {},
   "outputs": [
    {
     "name": "stderr",
     "output_type": "stream",
     "text": [
      "C:\\Users\\FELICITA\\Anaconda3\\lib\\site-packages\\sklearn\\ensemble\\weight_boosting.py:29: DeprecationWarning: numpy.core.umath_tests is an internal NumPy module and should not be imported. It will be removed in a future NumPy release.\n",
      "  from numpy.core.umath_tests import inner1d\n"
     ]
    }
   ],
   "source": [
    "#statistical test\n",
    "from sklearn.model_selection import train_test_split\n",
    "from sklearn.linear_model import LinearRegression\n",
    "from sklearn.tree import DecisionTreeRegressor\n",
    "from sklearn.ensemble import RandomForestRegressor"
   ]
  },
  {
   "cell_type": "code",
   "execution_count": 4,
   "metadata": {},
   "outputs": [],
   "source": [
    "#evaluation matrix\n",
    "from sklearn.metrics import mean_squared_error,r2_score\n",
    "from sklearn.preprocessing import StandardScaler"
   ]
  },
  {
   "cell_type": "markdown",
   "metadata": {},
   "source": [
    "Importing Dataset"
   ]
  },
  {
   "cell_type": "code",
   "execution_count": 5,
   "metadata": {},
   "outputs": [],
   "source": [
    "data=pd.read_csv(r\"C:\\Users\\FELICITA\\Documents\\imarticus\\python\\downloads\\data\\Cellphone.csv\")"
   ]
  },
  {
   "cell_type": "code",
   "execution_count": 6,
   "metadata": {},
   "outputs": [
    {
     "data": {
      "text/html": [
       "<div>\n",
       "<style scoped>\n",
       "    .dataframe tbody tr th:only-of-type {\n",
       "        vertical-align: middle;\n",
       "    }\n",
       "\n",
       "    .dataframe tbody tr th {\n",
       "        vertical-align: top;\n",
       "    }\n",
       "\n",
       "    .dataframe thead th {\n",
       "        text-align: right;\n",
       "    }\n",
       "</style>\n",
       "<table border=\"1\" class=\"dataframe\">\n",
       "  <thead>\n",
       "    <tr style=\"text-align: right;\">\n",
       "      <th></th>\n",
       "      <th>Product_id</th>\n",
       "      <th>Price</th>\n",
       "      <th>Sale</th>\n",
       "      <th>weight</th>\n",
       "      <th>resoloution</th>\n",
       "      <th>ppi</th>\n",
       "      <th>cpu core</th>\n",
       "      <th>cpu freq</th>\n",
       "      <th>internal mem</th>\n",
       "      <th>ram</th>\n",
       "      <th>RearCam</th>\n",
       "      <th>Front_Cam</th>\n",
       "      <th>battery</th>\n",
       "      <th>thickness</th>\n",
       "    </tr>\n",
       "  </thead>\n",
       "  <tbody>\n",
       "    <tr>\n",
       "      <th>0</th>\n",
       "      <td>203</td>\n",
       "      <td>2357</td>\n",
       "      <td>10</td>\n",
       "      <td>135.0</td>\n",
       "      <td>5.2</td>\n",
       "      <td>424</td>\n",
       "      <td>8</td>\n",
       "      <td>1.35</td>\n",
       "      <td>16.0</td>\n",
       "      <td>3.000</td>\n",
       "      <td>13.00</td>\n",
       "      <td>8.0</td>\n",
       "      <td>2610</td>\n",
       "      <td>7.4</td>\n",
       "    </tr>\n",
       "    <tr>\n",
       "      <th>1</th>\n",
       "      <td>880</td>\n",
       "      <td>1749</td>\n",
       "      <td>10</td>\n",
       "      <td>125.0</td>\n",
       "      <td>4.0</td>\n",
       "      <td>233</td>\n",
       "      <td>2</td>\n",
       "      <td>1.30</td>\n",
       "      <td>4.0</td>\n",
       "      <td>1.000</td>\n",
       "      <td>3.15</td>\n",
       "      <td>0.0</td>\n",
       "      <td>1700</td>\n",
       "      <td>9.9</td>\n",
       "    </tr>\n",
       "    <tr>\n",
       "      <th>2</th>\n",
       "      <td>40</td>\n",
       "      <td>1916</td>\n",
       "      <td>10</td>\n",
       "      <td>110.0</td>\n",
       "      <td>4.7</td>\n",
       "      <td>312</td>\n",
       "      <td>4</td>\n",
       "      <td>1.20</td>\n",
       "      <td>8.0</td>\n",
       "      <td>1.500</td>\n",
       "      <td>13.00</td>\n",
       "      <td>5.0</td>\n",
       "      <td>2000</td>\n",
       "      <td>7.6</td>\n",
       "    </tr>\n",
       "    <tr>\n",
       "      <th>3</th>\n",
       "      <td>99</td>\n",
       "      <td>1315</td>\n",
       "      <td>11</td>\n",
       "      <td>118.5</td>\n",
       "      <td>4.0</td>\n",
       "      <td>233</td>\n",
       "      <td>2</td>\n",
       "      <td>1.30</td>\n",
       "      <td>4.0</td>\n",
       "      <td>0.512</td>\n",
       "      <td>3.15</td>\n",
       "      <td>0.0</td>\n",
       "      <td>1400</td>\n",
       "      <td>11.0</td>\n",
       "    </tr>\n",
       "    <tr>\n",
       "      <th>4</th>\n",
       "      <td>880</td>\n",
       "      <td>1749</td>\n",
       "      <td>11</td>\n",
       "      <td>125.0</td>\n",
       "      <td>4.0</td>\n",
       "      <td>233</td>\n",
       "      <td>2</td>\n",
       "      <td>1.30</td>\n",
       "      <td>4.0</td>\n",
       "      <td>1.000</td>\n",
       "      <td>3.15</td>\n",
       "      <td>0.0</td>\n",
       "      <td>1700</td>\n",
       "      <td>9.9</td>\n",
       "    </tr>\n",
       "  </tbody>\n",
       "</table>\n",
       "</div>"
      ],
      "text/plain": [
       "   Product_id  Price  Sale  weight  resoloution  ppi  cpu core  cpu freq  \\\n",
       "0         203   2357    10   135.0          5.2  424         8      1.35   \n",
       "1         880   1749    10   125.0          4.0  233         2      1.30   \n",
       "2          40   1916    10   110.0          4.7  312         4      1.20   \n",
       "3          99   1315    11   118.5          4.0  233         2      1.30   \n",
       "4         880   1749    11   125.0          4.0  233         2      1.30   \n",
       "\n",
       "   internal mem    ram  RearCam  Front_Cam  battery  thickness  \n",
       "0          16.0  3.000    13.00        8.0     2610        7.4  \n",
       "1           4.0  1.000     3.15        0.0     1700        9.9  \n",
       "2           8.0  1.500    13.00        5.0     2000        7.6  \n",
       "3           4.0  0.512     3.15        0.0     1400       11.0  \n",
       "4           4.0  1.000     3.15        0.0     1700        9.9  "
      ]
     },
     "execution_count": 6,
     "metadata": {},
     "output_type": "execute_result"
    }
   ],
   "source": [
    "data.head()"
   ]
  },
  {
   "cell_type": "code",
   "execution_count": 7,
   "metadata": {},
   "outputs": [
    {
     "data": {
      "text/plain": [
       "(161, 14)"
      ]
     },
     "execution_count": 7,
     "metadata": {},
     "output_type": "execute_result"
    }
   ],
   "source": [
    "data.shape"
   ]
  },
  {
   "cell_type": "code",
   "execution_count": 8,
   "metadata": {},
   "outputs": [
    {
     "name": "stdout",
     "output_type": "stream",
     "text": [
      "<class 'pandas.core.frame.DataFrame'>\n",
      "RangeIndex: 161 entries, 0 to 160\n",
      "Data columns (total 14 columns):\n",
      "Product_id      161 non-null int64\n",
      "Price           161 non-null int64\n",
      "Sale            161 non-null int64\n",
      "weight          161 non-null float64\n",
      "resoloution     161 non-null float64\n",
      "ppi             161 non-null int64\n",
      "cpu core        161 non-null int64\n",
      "cpu freq        161 non-null float64\n",
      "internal mem    161 non-null float64\n",
      "ram             161 non-null float64\n",
      "RearCam         161 non-null float64\n",
      "Front_Cam       161 non-null float64\n",
      "battery         161 non-null int64\n",
      "thickness       161 non-null float64\n",
      "dtypes: float64(8), int64(6)\n",
      "memory usage: 17.7 KB\n"
     ]
    }
   ],
   "source": [
    "data.info()"
   ]
  },
  {
   "cell_type": "code",
   "execution_count": 9,
   "metadata": {},
   "outputs": [
    {
     "data": {
      "text/html": [
       "<div>\n",
       "<style scoped>\n",
       "    .dataframe tbody tr th:only-of-type {\n",
       "        vertical-align: middle;\n",
       "    }\n",
       "\n",
       "    .dataframe tbody tr th {\n",
       "        vertical-align: top;\n",
       "    }\n",
       "\n",
       "    .dataframe thead th {\n",
       "        text-align: right;\n",
       "    }\n",
       "</style>\n",
       "<table border=\"1\" class=\"dataframe\">\n",
       "  <thead>\n",
       "    <tr style=\"text-align: right;\">\n",
       "      <th></th>\n",
       "      <th>Product_id</th>\n",
       "      <th>Price</th>\n",
       "      <th>Sale</th>\n",
       "      <th>weight</th>\n",
       "      <th>resoloution</th>\n",
       "      <th>ppi</th>\n",
       "      <th>cpu core</th>\n",
       "      <th>cpu freq</th>\n",
       "      <th>internal mem</th>\n",
       "      <th>ram</th>\n",
       "      <th>RearCam</th>\n",
       "      <th>Front_Cam</th>\n",
       "      <th>battery</th>\n",
       "      <th>thickness</th>\n",
       "    </tr>\n",
       "  </thead>\n",
       "  <tbody>\n",
       "    <tr>\n",
       "      <th>count</th>\n",
       "      <td>161.000000</td>\n",
       "      <td>161.000000</td>\n",
       "      <td>161.000000</td>\n",
       "      <td>161.000000</td>\n",
       "      <td>161.000000</td>\n",
       "      <td>161.000000</td>\n",
       "      <td>161.000000</td>\n",
       "      <td>161.000000</td>\n",
       "      <td>161.000000</td>\n",
       "      <td>161.000000</td>\n",
       "      <td>161.000000</td>\n",
       "      <td>161.000000</td>\n",
       "      <td>161.000000</td>\n",
       "      <td>161.000000</td>\n",
       "    </tr>\n",
       "    <tr>\n",
       "      <th>mean</th>\n",
       "      <td>675.559006</td>\n",
       "      <td>2215.596273</td>\n",
       "      <td>621.465839</td>\n",
       "      <td>170.426087</td>\n",
       "      <td>5.209938</td>\n",
       "      <td>335.055901</td>\n",
       "      <td>4.857143</td>\n",
       "      <td>1.502832</td>\n",
       "      <td>24.501714</td>\n",
       "      <td>2.204994</td>\n",
       "      <td>10.378261</td>\n",
       "      <td>4.503106</td>\n",
       "      <td>2842.111801</td>\n",
       "      <td>8.921739</td>\n",
       "    </tr>\n",
       "    <tr>\n",
       "      <th>std</th>\n",
       "      <td>410.851583</td>\n",
       "      <td>768.187171</td>\n",
       "      <td>1546.618517</td>\n",
       "      <td>92.888612</td>\n",
       "      <td>1.509953</td>\n",
       "      <td>134.826659</td>\n",
       "      <td>2.444016</td>\n",
       "      <td>0.599783</td>\n",
       "      <td>28.804773</td>\n",
       "      <td>1.609831</td>\n",
       "      <td>6.181585</td>\n",
       "      <td>4.342053</td>\n",
       "      <td>1366.990838</td>\n",
       "      <td>2.192564</td>\n",
       "    </tr>\n",
       "    <tr>\n",
       "      <th>min</th>\n",
       "      <td>10.000000</td>\n",
       "      <td>614.000000</td>\n",
       "      <td>10.000000</td>\n",
       "      <td>66.000000</td>\n",
       "      <td>1.400000</td>\n",
       "      <td>121.000000</td>\n",
       "      <td>0.000000</td>\n",
       "      <td>0.000000</td>\n",
       "      <td>0.000000</td>\n",
       "      <td>0.000000</td>\n",
       "      <td>0.000000</td>\n",
       "      <td>0.000000</td>\n",
       "      <td>800.000000</td>\n",
       "      <td>5.100000</td>\n",
       "    </tr>\n",
       "    <tr>\n",
       "      <th>25%</th>\n",
       "      <td>237.000000</td>\n",
       "      <td>1734.000000</td>\n",
       "      <td>37.000000</td>\n",
       "      <td>134.100000</td>\n",
       "      <td>4.800000</td>\n",
       "      <td>233.000000</td>\n",
       "      <td>4.000000</td>\n",
       "      <td>1.200000</td>\n",
       "      <td>8.000000</td>\n",
       "      <td>1.000000</td>\n",
       "      <td>5.000000</td>\n",
       "      <td>0.000000</td>\n",
       "      <td>2040.000000</td>\n",
       "      <td>7.600000</td>\n",
       "    </tr>\n",
       "    <tr>\n",
       "      <th>50%</th>\n",
       "      <td>774.000000</td>\n",
       "      <td>2258.000000</td>\n",
       "      <td>106.000000</td>\n",
       "      <td>153.000000</td>\n",
       "      <td>5.150000</td>\n",
       "      <td>294.000000</td>\n",
       "      <td>4.000000</td>\n",
       "      <td>1.400000</td>\n",
       "      <td>16.000000</td>\n",
       "      <td>2.000000</td>\n",
       "      <td>12.000000</td>\n",
       "      <td>5.000000</td>\n",
       "      <td>2800.000000</td>\n",
       "      <td>8.400000</td>\n",
       "    </tr>\n",
       "    <tr>\n",
       "      <th>75%</th>\n",
       "      <td>1026.000000</td>\n",
       "      <td>2744.000000</td>\n",
       "      <td>382.000000</td>\n",
       "      <td>170.000000</td>\n",
       "      <td>5.500000</td>\n",
       "      <td>428.000000</td>\n",
       "      <td>8.000000</td>\n",
       "      <td>1.875000</td>\n",
       "      <td>32.000000</td>\n",
       "      <td>3.000000</td>\n",
       "      <td>16.000000</td>\n",
       "      <td>8.000000</td>\n",
       "      <td>3240.000000</td>\n",
       "      <td>9.800000</td>\n",
       "    </tr>\n",
       "    <tr>\n",
       "      <th>max</th>\n",
       "      <td>1339.000000</td>\n",
       "      <td>4361.000000</td>\n",
       "      <td>9807.000000</td>\n",
       "      <td>753.000000</td>\n",
       "      <td>12.200000</td>\n",
       "      <td>806.000000</td>\n",
       "      <td>8.000000</td>\n",
       "      <td>2.700000</td>\n",
       "      <td>128.000000</td>\n",
       "      <td>6.000000</td>\n",
       "      <td>23.000000</td>\n",
       "      <td>20.000000</td>\n",
       "      <td>9500.000000</td>\n",
       "      <td>18.500000</td>\n",
       "    </tr>\n",
       "  </tbody>\n",
       "</table>\n",
       "</div>"
      ],
      "text/plain": [
       "        Product_id        Price         Sale      weight  resoloution  \\\n",
       "count   161.000000   161.000000   161.000000  161.000000   161.000000   \n",
       "mean    675.559006  2215.596273   621.465839  170.426087     5.209938   \n",
       "std     410.851583   768.187171  1546.618517   92.888612     1.509953   \n",
       "min      10.000000   614.000000    10.000000   66.000000     1.400000   \n",
       "25%     237.000000  1734.000000    37.000000  134.100000     4.800000   \n",
       "50%     774.000000  2258.000000   106.000000  153.000000     5.150000   \n",
       "75%    1026.000000  2744.000000   382.000000  170.000000     5.500000   \n",
       "max    1339.000000  4361.000000  9807.000000  753.000000    12.200000   \n",
       "\n",
       "              ppi    cpu core    cpu freq  internal mem         ram  \\\n",
       "count  161.000000  161.000000  161.000000    161.000000  161.000000   \n",
       "mean   335.055901    4.857143    1.502832     24.501714    2.204994   \n",
       "std    134.826659    2.444016    0.599783     28.804773    1.609831   \n",
       "min    121.000000    0.000000    0.000000      0.000000    0.000000   \n",
       "25%    233.000000    4.000000    1.200000      8.000000    1.000000   \n",
       "50%    294.000000    4.000000    1.400000     16.000000    2.000000   \n",
       "75%    428.000000    8.000000    1.875000     32.000000    3.000000   \n",
       "max    806.000000    8.000000    2.700000    128.000000    6.000000   \n",
       "\n",
       "          RearCam   Front_Cam      battery   thickness  \n",
       "count  161.000000  161.000000   161.000000  161.000000  \n",
       "mean    10.378261    4.503106  2842.111801    8.921739  \n",
       "std      6.181585    4.342053  1366.990838    2.192564  \n",
       "min      0.000000    0.000000   800.000000    5.100000  \n",
       "25%      5.000000    0.000000  2040.000000    7.600000  \n",
       "50%     12.000000    5.000000  2800.000000    8.400000  \n",
       "75%     16.000000    8.000000  3240.000000    9.800000  \n",
       "max     23.000000   20.000000  9500.000000   18.500000  "
      ]
     },
     "execution_count": 9,
     "metadata": {},
     "output_type": "execute_result"
    }
   ],
   "source": [
    "data.describe()"
   ]
  },
  {
   "cell_type": "markdown",
   "metadata": {},
   "source": [
    "Price(Target Variable)"
   ]
  },
  {
   "cell_type": "code",
   "execution_count": 11,
   "metadata": {},
   "outputs": [
    {
     "data": {
      "text/plain": [
       "0    2357\n",
       "1    1749\n",
       "2    1916\n",
       "3    1315\n",
       "4    1749\n",
       "Name: Price, dtype: int64"
      ]
     },
     "execution_count": 11,
     "metadata": {},
     "output_type": "execute_result"
    }
   ],
   "source": [
    "data.Price.head()"
   ]
  },
  {
   "cell_type": "code",
   "execution_count": 12,
   "metadata": {},
   "outputs": [
    {
     "data": {
      "text/plain": [
       "count     161.000000\n",
       "mean     2215.596273\n",
       "std       768.187171\n",
       "min       614.000000\n",
       "25%      1734.000000\n",
       "50%      2258.000000\n",
       "75%      2744.000000\n",
       "max      4361.000000\n",
       "Name: Price, dtype: float64"
      ]
     },
     "execution_count": 12,
     "metadata": {},
     "output_type": "execute_result"
    }
   ],
   "source": [
    "data.Price.describe()"
   ]
  },
  {
   "cell_type": "code",
   "execution_count": 13,
   "metadata": {},
   "outputs": [
    {
     "data": {
      "text/plain": [
       "<matplotlib.axes._subplots.AxesSubplot at 0x25c297024e0>"
      ]
     },
     "execution_count": 13,
     "metadata": {},
     "output_type": "execute_result"
    },
    {
     "data": {
      "image/png": "[encoded data removed]",
      "text/plain": [
       "<Figure size 432x288 with 1 Axes>"
      ]
     },
     "metadata": {
      "needs_background": "light"
     },
     "output_type": "display_data"
    }
   ],
   "source": [
    "sns.boxplot(data.Price)"
   ]
  },
  {
   "cell_type": "code",
   "execution_count": 14,
   "metadata": {},
   "outputs": [
    {
     "data": {
      "text/plain": [
       "<matplotlib.axes._subplots.AxesSubplot at 0x25c299d9710>"
      ]
     },
     "execution_count": 14,
     "metadata": {},
     "output_type": "execute_result"
    },
    {
     "data": {
      "image/png": "[encoded data removed]",
      "text/plain": [
       "<Figure size 432x288 with 1 Axes>"
      ]
     },
     "metadata": {
      "needs_background": "light"
     },
     "output_type": "display_data"
    }
   ],
   "source": [
    "sns.distplot(data.Price)"
   ]
  },
  {
   "cell_type": "markdown",
   "metadata": {},
   "source": [
    "Indipendent Variables"
   ]
  },
  {
   "cell_type": "code",
   "execution_count": 15,
   "metadata": {},
   "outputs": [
    {
     "data": {
      "text/plain": [
       "Index(['Product_id', 'Price', 'Sale', 'weight', 'resoloution', 'ppi',\n",
       "       'cpu core', 'cpu freq', 'internal mem', 'ram', 'RearCam', 'Front_Cam',\n",
       "       'battery', 'thickness'],\n",
       "      dtype='object')"
      ]
     },
     "execution_count": 15,
     "metadata": {},
     "output_type": "execute_result"
    }
   ],
   "source": [
    "data.columns"
   ]
  },
  {
   "cell_type": "markdown",
   "metadata": {},
   "source": [
    "Product_id"
   ]
  },
  {
   "cell_type": "code",
   "execution_count": 16,
   "metadata": {},
   "outputs": [
    {
     "name": "stdout",
     "output_type": "stream",
     "text": [
      "Data Type\n",
      " int64\n",
      "Unique Datas\n",
      " [ 203  880   40   99  947  774 1103  289  605  622 1058 1120  187  315\n",
      "  860  990  104  776   10 1145 1020 1339  662  575  907  162  974  739\n",
      "  738  804   43 1248   93  563  577  218   56  198   14  857  937   66\n",
      " 1221 1011 1026 1216  237  763  131 1062  841 1143  183 1080  827  133\n",
      "  832  637   64   30  409  143  798  460 1327 1198 1112  696 1089  497\n",
      "  301  377  701 1161   32 1137  851  826  290 1131 1206 1296  856]\n",
      "Describing the data\n",
      " count     161.000000\n",
      "mean      675.559006\n",
      "std       410.851583\n",
      "min        10.000000\n",
      "25%       237.000000\n",
      "50%       774.000000\n",
      "75%      1026.000000\n",
      "max      1339.000000\n",
      "Name: Product_id, dtype: float64\n"
     ]
    },
    {
     "data": {
      "image/png": "[encoded data removed]",
      "text/plain": [
       "<Figure size 432x288 with 1 Axes>"
      ]
     },
     "metadata": {
      "needs_background": "light"
     },
     "output_type": "display_data"
    },
    {
     "name": "stdout",
     "output_type": "stream",
     "text": [
      "correlation\n",
      " [[1.         0.16513581]\n",
      " [0.16513581 1.        ]]\n"
     ]
    }
   ],
   "source": [
    "print(\"Data Type\\n\",data[\"Product_id\"].dtype)\n",
    "print(\"Unique Datas\\n\",data[\"Product_id\"].unique())\n",
    "print(\"Describing the data\\n\",data[\"Product_id\"].describe())\n",
    "\n",
    "sns.scatterplot(x=\"Product_id\",y=\"Price\",data=data)\n",
    "plt.show()\n",
    "\n",
    "print(\"correlation\\n\",np.corrcoef(data[\"Product_id\"],data.Price))"
   ]
  },
  {
   "cell_type": "code",
   "execution_count": 18,
   "metadata": {},
   "outputs": [],
   "source": [
    "data.drop(\"Product_id\",axis=1,inplace=True)"
   ]
  },
  {
   "cell_type": "code",
   "execution_count": 19,
   "metadata": {},
   "outputs": [
    {
     "data": {
      "text/plain": [
       "Index(['Price', 'Sale', 'weight', 'resoloution', 'ppi', 'cpu core', 'cpu freq',\n",
       "       'internal mem', 'ram', 'RearCam', 'Front_Cam', 'battery', 'thickness'],\n",
       "      dtype='object')"
      ]
     },
     "execution_count": 19,
     "metadata": {},
     "output_type": "execute_result"
    }
   ],
   "source": [
    "data.columns"
   ]
  },
  {
   "cell_type": "markdown",
   "metadata": {},
   "source": [
    "Sale"
   ]
  },
  {
   "cell_type": "code",
   "execution_count": 20,
   "metadata": {},
   "outputs": [
    {
     "name": "stdout",
     "output_type": "stream",
     "text": [
      "Data Type\n",
      " int64\n",
      "Unique Datas\n",
      " [  10   11   12   13   14   15   16   17   19   20   21   22   23   24\n",
      "   25   26   30   31   32   34   35   36   37   38   40   41   42   43\n",
      "   45   52   57   58   66   67   71   72   73   75   82   87   89   91\n",
      "   93   94   96   98  100  101  103  106  109  111  113  114  119  121\n",
      "  140  141  143  156  164  166  178  179  187  198  201  204  206  208\n",
      "  213  214  256  268  285  299  302  307  308  309  344  367  373  378\n",
      "  382  385  393  399  418  423  427  455  456  499  523  564  567  599\n",
      "  615  616  678  996 1009 1043 1224 1274 1530 1584 1781 1862 2071 2088\n",
      " 2106 2159 2171 2173 3248 3291 3619 4408 4638 8016 8809 8946 9807]\n",
      "Describing the data\n",
      " count     161.000000\n",
      "mean      621.465839\n",
      "std      1546.618517\n",
      "min        10.000000\n",
      "25%        37.000000\n",
      "50%       106.000000\n",
      "75%       382.000000\n",
      "max      9807.000000\n",
      "Name: Sale, dtype: float64\n"
     ]
    },
    {
     "data": {
      "image/png": "[encoded data removed]",
      "text/plain": [
       "<Figure size 432x288 with 1 Axes>"
      ]
     },
     "metadata": {
      "needs_background": "light"
     },
     "output_type": "display_data"
    },
    {
     "name": "stdout",
     "output_type": "stream",
     "text": [
      "correlation\n",
      " [[1.         0.27326252]\n",
      " [0.27326252 1.        ]]\n"
     ]
    }
   ],
   "source": [
    "print(\"Data Type\\n\",data[\"Sale\"].dtype)\n",
    "print(\"Unique Datas\\n\",data[\"Sale\"].unique())\n",
    "print(\"Describing the data\\n\",data[\"Sale\"].describe())\n",
    "\n",
    "sns.scatterplot(x=\"Sale\",y=\"Price\",data=data)\n",
    "plt.show()\n",
    "\n",
    "print(\"correlation\\n\",np.corrcoef(data[\"Sale\"],data.Price))"
   ]
  },
  {
   "cell_type": "code",
   "execution_count": 44,
   "metadata": {},
   "outputs": [],
   "source": [
    "data.drop(\"Sale\",axis=1,inplace=True)"
   ]
  },
  {
   "cell_type": "code",
   "execution_count": 45,
   "metadata": {},
   "outputs": [
    {
     "data": {
      "text/plain": [
       "Index(['Price', 'weight', 'resoloution', 'ppi', 'cpu core', 'cpu freq',\n",
       "       'internal mem', 'ram', 'RearCam', 'Front_Cam', 'battery', 'thickness'],\n",
       "      dtype='object')"
      ]
     },
     "execution_count": 45,
     "metadata": {},
     "output_type": "execute_result"
    }
   ],
   "source": [
    "data.columns"
   ]
  },
  {
   "cell_type": "markdown",
   "metadata": {},
   "source": [
    "Weight"
   ]
  },
  {
   "cell_type": "code",
   "execution_count": 22,
   "metadata": {},
   "outputs": [
    {
     "name": "stdout",
     "output_type": "stream",
     "text": [
      "Data Type\n",
      " float64\n",
      "Unique Datas\n",
      " [135.  125.  110.  118.5 150.  134.1 145.  162.  161.  140.  174.  141.\n",
      " 168.  147.  152.  139.2 146.  118.  144.  151.  120.  489.  133.5 169.\n",
      " 131.  260.  154.  175.  158.   97.  310.  128.  116.  153.  279.  156.\n",
      " 171.   66.  167.8 404.  127.9 393.  134.  187.  160.   78.4 142.   77.9\n",
      " 149.  170.  194.8 753.  165.  112.  183.  102.9 179.  180.   69.8 238.\n",
      " 202.  178. ]\n",
      "Describing the data\n",
      " count    161.000000\n",
      "mean     170.426087\n",
      "std       92.888612\n",
      "min       66.000000\n",
      "25%      134.100000\n",
      "50%      153.000000\n",
      "75%      170.000000\n",
      "max      753.000000\n",
      "Name: weight, dtype: float64\n"
     ]
    },
    {
     "data": {
      "image/png": "[encoded data removed]",
      "text/plain": [
       "<Figure size 432x288 with 1 Axes>"
      ]
     },
     "metadata": {
      "needs_background": "light"
     },
     "output_type": "display_data"
    },
    {
     "name": "stdout",
     "output_type": "stream",
     "text": [
      "correlation\n",
      " [[1.         0.14455512]\n",
      " [0.14455512 1.        ]]\n"
     ]
    }
   ],
   "source": [
    "print(\"Data Type\\n\",data[\"weight\"].dtype)\n",
    "print(\"Unique Datas\\n\",data[\"weight\"].unique())\n",
    "print(\"Describing the data\\n\",data[\"weight\"].describe())\n",
    "\n",
    "sns.scatterplot(x=\"weight\",y=\"Price\",data=data)\n",
    "plt.show()\n",
    "\n",
    "print(\"correlation\\n\",np.corrcoef(data[\"weight\"],data.Price))"
   ]
  },
  {
   "cell_type": "code",
   "execution_count": 47,
   "metadata": {},
   "outputs": [],
   "source": [
    "data.drop(\"weight\",axis=1,inplace=True)"
   ]
  },
  {
   "cell_type": "code",
   "execution_count": 48,
   "metadata": {},
   "outputs": [
    {
     "data": {
      "text/plain": [
       "Index(['Price', 'resoloution', 'ppi', 'cpu core', 'cpu freq', 'internal mem',\n",
       "       'ram', 'RearCam', 'Front_Cam', 'battery', 'thickness'],\n",
       "      dtype='object')"
      ]
     },
     "execution_count": 48,
     "metadata": {},
     "output_type": "execute_result"
    }
   ],
   "source": [
    "data.columns"
   ]
  },
  {
   "cell_type": "markdown",
   "metadata": {},
   "source": [
    "Resoloution"
   ]
  },
  {
   "cell_type": "code",
   "execution_count": 24,
   "metadata": {},
   "outputs": [
    {
     "name": "stdout",
     "output_type": "stream",
     "text": [
      "Data Type\n",
      " float64\n",
      "Unique Datas\n",
      " [ 5.2   4.    4.7   5.5   5.1   5.3   5.    5.6   5.7  10.1   4.5   7.\n",
      "  5.15  4.8   8.    1.5   5.43  6.    2.4   2.2  12.2   4.66  1.4   5.46]\n",
      "Describing the data\n",
      " count    161.000000\n",
      "mean       5.209938\n",
      "std        1.509953\n",
      "min        1.400000\n",
      "25%        4.800000\n",
      "50%        5.150000\n",
      "75%        5.500000\n",
      "max       12.200000\n",
      "Name: resoloution, dtype: float64\n"
     ]
    },
    {
     "data": {
      "image/png": "[encoded data removed]",
      "text/plain": [
       "<Figure size 432x288 with 1 Axes>"
      ]
     },
     "metadata": {
      "needs_background": "light"
     },
     "output_type": "display_data"
    },
    {
     "name": "stdout",
     "output_type": "stream",
     "text": [
      "correlation\n",
      " [[1.         0.40400956]\n",
      " [0.40400956 1.        ]]\n"
     ]
    }
   ],
   "source": [
    "print(\"Data Type\\n\",data[\"resoloution\"].dtype)\n",
    "print(\"Unique Datas\\n\",data[\"resoloution\"].unique())\n",
    "print(\"Describing the data\\n\",data[\"resoloution\"].describe())\n",
    "\n",
    "sns.scatterplot(x=\"resoloution\",y=\"Price\",data=data)\n",
    "plt.show()\n",
    "\n",
    "print(\"correlation\\n\",np.corrcoef(data[\"resoloution\"],data.Price))"
   ]
  },
  {
   "cell_type": "code",
   "execution_count": 49,
   "metadata": {},
   "outputs": [
    {
     "data": {
      "text/plain": [
       "Index(['Price', 'resoloution', 'ppi', 'cpu core', 'cpu freq', 'internal mem',\n",
       "       'ram', 'RearCam', 'Front_Cam', 'battery', 'thickness'],\n",
       "      dtype='object')"
      ]
     },
     "execution_count": 49,
     "metadata": {},
     "output_type": "execute_result"
    }
   ],
   "source": [
    "data.columns"
   ]
  },
  {
   "cell_type": "markdown",
   "metadata": {},
   "source": [
    "PPI"
   ]
  },
  {
   "cell_type": "code",
   "execution_count": 26,
   "metadata": {},
   "outputs": [
    {
     "name": "stdout",
     "output_type": "stream",
     "text": [
      "Data Type\n",
      " int64\n",
      "Unique Datas\n",
      " [424 233 312 401 432 277 200 294 524 441 534 282 577 469 220 187 428 386\n",
      " 224 178 218 515 245 170 306 283 121 541 160 235 189 221 367 166 440 513\n",
      " 167 403 258 128 247 184 806 129 538]\n",
      "Describing the data\n",
      " count    161.000000\n",
      "mean     335.055901\n",
      "std      134.826659\n",
      "min      121.000000\n",
      "25%      233.000000\n",
      "50%      294.000000\n",
      "75%      428.000000\n",
      "max      806.000000\n",
      "Name: ppi, dtype: float64\n"
     ]
    },
    {
     "data": {
      "image/png": "[encoded data removed]",
      "text/plain": [
       "<Figure size 432x288 with 1 Axes>"
      ]
     },
     "metadata": {
      "needs_background": "light"
     },
     "output_type": "display_data"
    },
    {
     "name": "stdout",
     "output_type": "stream",
     "text": [
      "correlation\n",
      " [[1.         0.81761445]\n",
      " [0.81761445 1.        ]]\n"
     ]
    }
   ],
   "source": [
    "print(\"Data Type\\n\",data[\"ppi\"].dtype)\n",
    "print(\"Unique Datas\\n\",data[\"ppi\"].unique())\n",
    "print(\"Describing the data\\n\",data[\"ppi\"].describe())\n",
    "\n",
    "sns.scatterplot(x=\"ppi\",y=\"Price\",data=data)\n",
    "plt.show()\n",
    "\n",
    "print(\"correlation\\n\",np.corrcoef(data[\"ppi\"],data.Price))"
   ]
  },
  {
   "cell_type": "code",
   "execution_count": 50,
   "metadata": {},
   "outputs": [
    {
     "data": {
      "text/plain": [
       "Index(['Price', 'resoloution', 'ppi', 'cpu core', 'cpu freq', 'internal mem',\n",
       "       'ram', 'RearCam', 'Front_Cam', 'battery', 'thickness'],\n",
       "      dtype='object')"
      ]
     },
     "execution_count": 50,
     "metadata": {},
     "output_type": "execute_result"
    }
   ],
   "source": [
    "data.columns"
   ]
  },
  {
   "cell_type": "markdown",
   "metadata": {},
   "source": [
    "Cpu Core"
   ]
  },
  {
   "cell_type": "code",
   "execution_count": 28,
   "metadata": {},
   "outputs": [
    {
     "name": "stdout",
     "output_type": "stream",
     "text": [
      "Data Type\n",
      " int64\n",
      "Unique Datas\n",
      " [8 2 4 6 1 0]\n",
      "Describing the data\n",
      " count    161.000000\n",
      "mean       4.857143\n",
      "std        2.444016\n",
      "min        0.000000\n",
      "25%        4.000000\n",
      "50%        4.000000\n",
      "75%        8.000000\n",
      "max        8.000000\n",
      "Name: cpu core, dtype: float64\n"
     ]
    },
    {
     "data": {
      "image/png": "[encoded data removed]",
      "text/plain": [
       "<Figure size 432x288 with 1 Axes>"
      ]
     },
     "metadata": {
      "needs_background": "light"
     },
     "output_type": "display_data"
    },
    {
     "name": "stdout",
     "output_type": "stream",
     "text": [
      "correlation\n",
      " [[1.         0.68681064]\n",
      " [0.68681064 1.        ]]\n"
     ]
    }
   ],
   "source": [
    "print(\"Data Type\\n\",data[\"cpu core\"].dtype)\n",
    "print(\"Unique Datas\\n\",data[\"cpu core\"].unique())\n",
    "print(\"Describing the data\\n\",data[\"cpu core\"].describe())\n",
    "\n",
    "sns.scatterplot(x=\"cpu core\",y=\"Price\",data=data)\n",
    "plt.show()\n",
    "\n",
    "print(\"correlation\\n\",np.corrcoef(data[\"cpu core\"],data.Price))"
   ]
  },
  {
   "cell_type": "code",
   "execution_count": 51,
   "metadata": {},
   "outputs": [
    {
     "data": {
      "text/plain": [
       "Index(['Price', 'resoloution', 'ppi', 'cpu core', 'cpu freq', 'internal mem',\n",
       "       'ram', 'RearCam', 'Front_Cam', 'battery', 'thickness'],\n",
       "      dtype='object')"
      ]
     },
     "execution_count": 51,
     "metadata": {},
     "output_type": "execute_result"
    }
   ],
   "source": [
    "data.columns"
   ]
  },
  {
   "cell_type": "markdown",
   "metadata": {},
   "source": [
    "Cpu Freq"
   ]
  },
  {
   "cell_type": "code",
   "execution_count": 30,
   "metadata": {},
   "outputs": [
    {
     "name": "stdout",
     "output_type": "stream",
     "text": [
      "Data Type\n",
      " float64\n",
      "Unique Datas\n",
      " [1.35  1.3   1.2   2.3   2.5   1.5   1.4   2.7   1.875 2.15  1.75  1.55\n",
      " 1.    2.26  1.8   2.45  1.53  1.83  1.7   2.    0.208 0.    1.25  1.6\n",
      " 2.1   1.95  1.975 2.2  ]\n",
      "Describing the data\n",
      " count    161.000000\n",
      "mean       1.502832\n",
      "std        0.599783\n",
      "min        0.000000\n",
      "25%        1.200000\n",
      "50%        1.400000\n",
      "75%        1.875000\n",
      "max        2.700000\n",
      "Name: cpu freq, dtype: float64\n"
     ]
    },
    {
     "data": {
      "image/png": "[encoded data removed]",
      "text/plain": [
       "<Figure size 432x288 with 1 Axes>"
      ]
     },
     "metadata": {
      "needs_background": "light"
     },
     "output_type": "display_data"
    },
    {
     "name": "stdout",
     "output_type": "stream",
     "text": [
      "correlation\n",
      " [[1.         0.72738283]\n",
      " [0.72738283 1.        ]]\n"
     ]
    }
   ],
   "source": [
    "print(\"Data Type\\n\",data[\"cpu freq\"].dtype)\n",
    "print(\"Unique Datas\\n\",data[\"cpu freq\"].unique())\n",
    "print(\"Describing the data\\n\",data[\"cpu freq\"].describe())\n",
    "\n",
    "sns.scatterplot(x=\"cpu freq\",y=\"Price\",data=data)\n",
    "plt.show()\n",
    "\n",
    "print(\"correlation\\n\",np.corrcoef(data[\"cpu freq\"],data.Price))"
   ]
  },
  {
   "cell_type": "code",
   "execution_count": 52,
   "metadata": {},
   "outputs": [
    {
     "data": {
      "text/plain": [
       "Index(['Price', 'resoloution', 'ppi', 'cpu core', 'cpu freq', 'internal mem',\n",
       "       'ram', 'RearCam', 'Front_Cam', 'battery', 'thickness'],\n",
       "      dtype='object')"
      ]
     },
     "execution_count": 52,
     "metadata": {},
     "output_type": "execute_result"
    }
   ],
   "source": [
    "data.columns"
   ]
  },
  {
   "cell_type": "markdown",
   "metadata": {},
   "source": [
    "Internal Mem"
   ]
  },
  {
   "cell_type": "code",
   "execution_count": 32,
   "metadata": {},
   "outputs": [
    {
     "name": "stdout",
     "output_type": "stream",
     "text": [
      "Data Type\n",
      " float64\n",
      "Unique Datas\n",
      " [1.60e+01 4.00e+00 8.00e+00 3.20e+01 6.40e+01 0.00e+00 1.28e+02 4.00e-03\n",
      " 1.28e-01 2.56e-01]\n",
      "Describing the data\n",
      " count    161.000000\n",
      "mean      24.501714\n",
      "std       28.804773\n",
      "min        0.000000\n",
      "25%        8.000000\n",
      "50%       16.000000\n",
      "75%       32.000000\n",
      "max      128.000000\n",
      "Name: internal mem, dtype: float64\n"
     ]
    },
    {
     "data": {
      "image/png": "[encoded data removed]",
      "text/plain": [
       "<Figure size 432x288 with 1 Axes>"
      ]
     },
     "metadata": {
      "needs_background": "light"
     },
     "output_type": "display_data"
    },
    {
     "name": "stdout",
     "output_type": "stream",
     "text": [
      "correlation\n",
      " [[1.         0.77673777]\n",
      " [0.77673777 1.        ]]\n"
     ]
    }
   ],
   "source": [
    "print(\"Data Type\\n\",data[\"internal mem\"].dtype)\n",
    "print(\"Unique Datas\\n\",data[\"internal mem\"].unique())\n",
    "print(\"Describing the data\\n\",data[\"internal mem\"].describe())\n",
    "\n",
    "sns.scatterplot(x=\"internal mem\",y=\"Price\",data=data)\n",
    "plt.show()\n",
    "\n",
    "print(\"correlation\\n\",np.corrcoef(data[\"internal mem\"],data.Price))"
   ]
  },
  {
   "cell_type": "code",
   "execution_count": 53,
   "metadata": {},
   "outputs": [
    {
     "data": {
      "text/plain": [
       "Index(['Price', 'resoloution', 'ppi', 'cpu core', 'cpu freq', 'internal mem',\n",
       "       'ram', 'RearCam', 'Front_Cam', 'battery', 'thickness'],\n",
       "      dtype='object')"
      ]
     },
     "execution_count": 53,
     "metadata": {},
     "output_type": "execute_result"
    }
   ],
   "source": [
    "data.columns"
   ]
  },
  {
   "cell_type": "markdown",
   "metadata": {},
   "source": [
    "Ram"
   ]
  },
  {
   "cell_type": "code",
   "execution_count": 34,
   "metadata": {},
   "outputs": [
    {
     "name": "stdout",
     "output_type": "stream",
     "text": [
      "Data Type\n",
      " float64\n",
      "Unique Datas\n",
      " [3.00e+00 1.00e+00 1.50e+00 5.12e-01 2.00e+00 4.00e+00 6.00e+00 4.00e-03\n",
      " 8.00e-03 3.20e-02 0.00e+00 1.28e-01]\n",
      "Describing the data\n",
      " count    161.000000\n",
      "mean       2.204994\n",
      "std        1.609831\n",
      "min        0.000000\n",
      "25%        1.000000\n",
      "50%        2.000000\n",
      "75%        3.000000\n",
      "max        6.000000\n",
      "Name: ram, dtype: float64\n"
     ]
    },
    {
     "data": {
      "image/png": "[encoded data removed]",
      "text/plain": [
       "<Figure size 432x288 with 1 Axes>"
      ]
     },
     "metadata": {
      "needs_background": "light"
     },
     "output_type": "display_data"
    },
    {
     "name": "stdout",
     "output_type": "stream",
     "text": [
      "correlation\n",
      " [[1.         0.89691507]\n",
      " [0.89691507 1.        ]]\n"
     ]
    }
   ],
   "source": [
    "print(\"Data Type\\n\",data[\"ram\"].dtype)\n",
    "print(\"Unique Datas\\n\",data[\"ram\"].unique())\n",
    "print(\"Describing the data\\n\",data[\"ram\"].describe())\n",
    "\n",
    "sns.scatterplot(x=\"ram\",y=\"Price\",data=data)\n",
    "plt.show()\n",
    "\n",
    "print(\"correlation\\n\",np.corrcoef(data[\"ram\"],data.Price))"
   ]
  },
  {
   "cell_type": "code",
   "execution_count": 54,
   "metadata": {},
   "outputs": [
    {
     "data": {
      "text/plain": [
       "Index(['Price', 'resoloution', 'ppi', 'cpu core', 'cpu freq', 'internal mem',\n",
       "       'ram', 'RearCam', 'Front_Cam', 'battery', 'thickness'],\n",
       "      dtype='object')"
      ]
     },
     "execution_count": 54,
     "metadata": {},
     "output_type": "execute_result"
    }
   ],
   "source": [
    "data.columns"
   ]
  },
  {
   "cell_type": "markdown",
   "metadata": {},
   "source": [
    "RearCam"
   ]
  },
  {
   "cell_type": "code",
   "execution_count": 36,
   "metadata": {},
   "outputs": [
    {
     "name": "stdout",
     "output_type": "stream",
     "text": [
      "Data Type\n",
      " float64\n",
      "Unique Datas\n",
      " [13.    3.15 16.    2.    5.    8.   12.3  12.   20.7  21.    3.    0.\n",
      " 10.   20.    4.    1.3  23.   21.5 ]\n",
      "Describing the data\n",
      " count    161.000000\n",
      "mean      10.378261\n",
      "std        6.181585\n",
      "min        0.000000\n",
      "25%        5.000000\n",
      "50%       12.000000\n",
      "75%       16.000000\n",
      "max       23.000000\n",
      "Name: RearCam, dtype: float64\n"
     ]
    },
    {
     "data": {
      "image/png": "[encoded data removed]",
      "text/plain": [
       "<Figure size 432x288 with 1 Axes>"
      ]
     },
     "metadata": {
      "needs_background": "light"
     },
     "output_type": "display_data"
    },
    {
     "name": "stdout",
     "output_type": "stream",
     "text": [
      "correlation\n",
      " [[1.         0.73953757]\n",
      " [0.73953757 1.        ]]\n"
     ]
    }
   ],
   "source": [
    "print(\"Data Type\\n\",data[\"RearCam\"].dtype)\n",
    "print(\"Unique Datas\\n\",data[\"RearCam\"].unique())\n",
    "print(\"Describing the data\\n\",data[\"RearCam\"].describe())\n",
    "\n",
    "sns.scatterplot(x=\"RearCam\",y=\"Price\",data=data)\n",
    "plt.show()\n",
    "\n",
    "print(\"correlation\\n\",np.corrcoef(data[\"RearCam\"],data.Price))"
   ]
  },
  {
   "cell_type": "code",
   "execution_count": 55,
   "metadata": {},
   "outputs": [
    {
     "data": {
      "text/plain": [
       "Index(['Price', 'resoloution', 'ppi', 'cpu core', 'cpu freq', 'internal mem',\n",
       "       'ram', 'RearCam', 'Front_Cam', 'battery', 'thickness'],\n",
       "      dtype='object')"
      ]
     },
     "execution_count": 55,
     "metadata": {},
     "output_type": "execute_result"
    }
   ],
   "source": [
    "data.columns"
   ]
  },
  {
   "cell_type": "markdown",
   "metadata": {},
   "source": [
    "Front_Cam"
   ]
  },
  {
   "cell_type": "code",
   "execution_count": 38,
   "metadata": {},
   "outputs": [
    {
     "name": "stdout",
     "output_type": "stream",
     "text": [
      "Data Type\n",
      " float64\n",
      "Unique Datas\n",
      " [ 8.   0.   5.   2.   3.7  1.2 16.   4.   5.1 13.   0.9  1.   2.1  2.2\n",
      " 20. ]\n",
      "Describing the data\n",
      " count    161.000000\n",
      "mean       4.503106\n",
      "std        4.342053\n",
      "min        0.000000\n",
      "25%        0.000000\n",
      "50%        5.000000\n",
      "75%        8.000000\n",
      "max       20.000000\n",
      "Name: Front_Cam, dtype: float64\n"
     ]
    },
    {
     "data": {
      "image/png": "[encoded data removed]",
      "text/plain": [
       "<Figure size 432x288 with 1 Axes>"
      ]
     },
     "metadata": {
      "needs_background": "light"
     },
     "output_type": "display_data"
    },
    {
     "name": "stdout",
     "output_type": "stream",
     "text": [
      "correlation\n",
      " [[1.         0.67528641]\n",
      " [0.67528641 1.        ]]\n"
     ]
    }
   ],
   "source": [
    "print(\"Data Type\\n\",data[\"Front_Cam\"].dtype)\n",
    "print(\"Unique Datas\\n\",data[\"Front_Cam\"].unique())\n",
    "print(\"Describing the data\\n\",data[\"Front_Cam\"].describe())\n",
    "\n",
    "sns.scatterplot(x=\"Front_Cam\",y=\"Price\",data=data)\n",
    "plt.show()\n",
    "\n",
    "print(\"correlation\\n\",np.corrcoef(data[\"Front_Cam\"],data.Price))"
   ]
  },
  {
   "cell_type": "code",
   "execution_count": 56,
   "metadata": {},
   "outputs": [
    {
     "data": {
      "text/plain": [
       "Index(['Price', 'resoloution', 'ppi', 'cpu core', 'cpu freq', 'internal mem',\n",
       "       'ram', 'RearCam', 'Front_Cam', 'battery', 'thickness'],\n",
       "      dtype='object')"
      ]
     },
     "execution_count": 56,
     "metadata": {},
     "output_type": "execute_result"
    }
   ],
   "source": [
    "data.columns"
   ]
  },
  {
   "cell_type": "markdown",
   "metadata": {},
   "source": [
    "Battery"
   ]
  },
  {
   "cell_type": "code",
   "execution_count": 40,
   "metadata": {},
   "outputs": [
    {
     "name": "stdout",
     "output_type": "stream",
     "text": [
      "Data Type\n",
      " int64\n",
      "Unique Datas\n",
      " [2610 1700 2000 1400 2500 1560 2800 4000 3000 2040 2300 3450 2900 2200\n",
      " 1905 2930 3050 1200 7400 2250 2450 1600 3500 2390 2820 3350 3140 2100\n",
      " 4060 1840 3200 3240  800 3600 4500 1500 4450 1830 1100 2700  850 5000\n",
      " 3630 1730 3400  900 9500 2600 1900  950 3100 2580 3430 7000 4080]\n",
      "Describing the data\n",
      " count     161.000000\n",
      "mean     2842.111801\n",
      "std      1366.990838\n",
      "min       800.000000\n",
      "25%      2040.000000\n",
      "50%      2800.000000\n",
      "75%      3240.000000\n",
      "max      9500.000000\n",
      "Name: battery, dtype: float64\n"
     ]
    },
    {
     "data": {
      "image/png": "[encoded data removed]",
      "text/plain": [
       "<Figure size 432x288 with 1 Axes>"
      ]
     },
     "metadata": {
      "needs_background": "light"
     },
     "output_type": "display_data"
    },
    {
     "name": "stdout",
     "output_type": "stream",
     "text": [
      "correlation\n",
      " [[1.         0.55994569]\n",
      " [0.55994569 1.        ]]\n"
     ]
    }
   ],
   "source": [
    "print(\"Data Type\\n\",data[\"battery\"].dtype)\n",
    "print(\"Unique Datas\\n\",data[\"battery\"].unique())\n",
    "print(\"Describing the data\\n\",data[\"battery\"].describe())\n",
    "\n",
    "sns.scatterplot(x=\"battery\",y=\"Price\",data=data)\n",
    "plt.show()\n",
    "\n",
    "print(\"correlation\\n\",np.corrcoef(data[\"battery\"],data.Price))"
   ]
  },
  {
   "cell_type": "code",
   "execution_count": 57,
   "metadata": {},
   "outputs": [
    {
     "data": {
      "text/plain": [
       "Index(['Price', 'resoloution', 'ppi', 'cpu core', 'cpu freq', 'internal mem',\n",
       "       'ram', 'RearCam', 'Front_Cam', 'battery', 'thickness'],\n",
       "      dtype='object')"
      ]
     },
     "execution_count": 57,
     "metadata": {},
     "output_type": "execute_result"
    }
   ],
   "source": [
    "data.columns"
   ]
  },
  {
   "cell_type": "markdown",
   "metadata": {},
   "source": [
    "Thickness"
   ]
  },
  {
   "cell_type": "code",
   "execution_count": 42,
   "metadata": {},
   "outputs": [
    {
     "name": "stdout",
     "output_type": "stream",
     "text": [
      "Data Type\n",
      " float64\n",
      "Unique Datas\n",
      " [ 7.4  9.9  7.6 11.   9.5 11.7  8.1  7.7  8.9  8.2  8.3 10.   8.5  7.9\n",
      " 10.3  8.8  6.4  6.9  5.9  9.8  7.8  9.2 10.1  8.7  7.5 12.3  9.1  9.3\n",
      "  5.1  7.3  9.  13.2 10.6  8.4  9.7 10.8 12.9  8.  12.4  7.  10.9 10.2\n",
      " 15.6 11.6  6.3  9.4 18.5 14.1  6.8]\n",
      "Describing the data\n",
      " count    161.000000\n",
      "mean       8.921739\n",
      "std        2.192564\n",
      "min        5.100000\n",
      "25%        7.600000\n",
      "50%        8.400000\n",
      "75%        9.800000\n",
      "max       18.500000\n",
      "Name: thickness, dtype: float64\n"
     ]
    },
    {
     "data": {
      "image/png": "[encoded data removed]",
      "text/plain": [
       "<Figure size 432x288 with 1 Axes>"
      ]
     },
     "metadata": {
      "needs_background": "light"
     },
     "output_type": "display_data"
    },
    {
     "name": "stdout",
     "output_type": "stream",
     "text": [
      "correlation\n",
      " [[ 1.         -0.71677306]\n",
      " [-0.71677306  1.        ]]\n"
     ]
    }
   ],
   "source": [
    "print(\"Data Type\\n\",data[\"thickness\"].dtype)\n",
    "print(\"Unique Datas\\n\",data[\"thickness\"].unique())\n",
    "print(\"Describing the data\\n\",data[\"thickness\"].describe())\n",
    "\n",
    "sns.scatterplot(x=\"thickness\",y=\"Price\",data=data)\n",
    "plt.show()\n",
    "\n",
    "print(\"correlation\\n\",np.corrcoef(data[\"thickness\"],data.Price))"
   ]
  },
  {
   "cell_type": "code",
   "execution_count": 59,
   "metadata": {},
   "outputs": [
    {
     "data": {
      "text/html": [
       "<div>\n",
       "<style scoped>\n",
       "    .dataframe tbody tr th:only-of-type {\n",
       "        vertical-align: middle;\n",
       "    }\n",
       "\n",
       "    .dataframe tbody tr th {\n",
       "        vertical-align: top;\n",
       "    }\n",
       "\n",
       "    .dataframe thead th {\n",
       "        text-align: right;\n",
       "    }\n",
       "</style>\n",
       "<table border=\"1\" class=\"dataframe\">\n",
       "  <thead>\n",
       "    <tr style=\"text-align: right;\">\n",
       "      <th></th>\n",
       "      <th>resoloution</th>\n",
       "      <th>ppi</th>\n",
       "      <th>cpu core</th>\n",
       "      <th>cpu freq</th>\n",
       "      <th>internal mem</th>\n",
       "      <th>ram</th>\n",
       "      <th>RearCam</th>\n",
       "      <th>Front_Cam</th>\n",
       "      <th>battery</th>\n",
       "      <th>thickness</th>\n",
       "    </tr>\n",
       "  </thead>\n",
       "  <tbody>\n",
       "    <tr>\n",
       "      <th>0</th>\n",
       "      <td>5.2</td>\n",
       "      <td>424</td>\n",
       "      <td>8</td>\n",
       "      <td>1.35</td>\n",
       "      <td>16.0</td>\n",
       "      <td>3.000</td>\n",
       "      <td>13.00</td>\n",
       "      <td>8.0</td>\n",
       "      <td>2610</td>\n",
       "      <td>7.4</td>\n",
       "    </tr>\n",
       "    <tr>\n",
       "      <th>1</th>\n",
       "      <td>4.0</td>\n",
       "      <td>233</td>\n",
       "      <td>2</td>\n",
       "      <td>1.30</td>\n",
       "      <td>4.0</td>\n",
       "      <td>1.000</td>\n",
       "      <td>3.15</td>\n",
       "      <td>0.0</td>\n",
       "      <td>1700</td>\n",
       "      <td>9.9</td>\n",
       "    </tr>\n",
       "    <tr>\n",
       "      <th>2</th>\n",
       "      <td>4.7</td>\n",
       "      <td>312</td>\n",
       "      <td>4</td>\n",
       "      <td>1.20</td>\n",
       "      <td>8.0</td>\n",
       "      <td>1.500</td>\n",
       "      <td>13.00</td>\n",
       "      <td>5.0</td>\n",
       "      <td>2000</td>\n",
       "      <td>7.6</td>\n",
       "    </tr>\n",
       "    <tr>\n",
       "      <th>3</th>\n",
       "      <td>4.0</td>\n",
       "      <td>233</td>\n",
       "      <td>2</td>\n",
       "      <td>1.30</td>\n",
       "      <td>4.0</td>\n",
       "      <td>0.512</td>\n",
       "      <td>3.15</td>\n",
       "      <td>0.0</td>\n",
       "      <td>1400</td>\n",
       "      <td>11.0</td>\n",
       "    </tr>\n",
       "    <tr>\n",
       "      <th>4</th>\n",
       "      <td>4.0</td>\n",
       "      <td>233</td>\n",
       "      <td>2</td>\n",
       "      <td>1.30</td>\n",
       "      <td>4.0</td>\n",
       "      <td>1.000</td>\n",
       "      <td>3.15</td>\n",
       "      <td>0.0</td>\n",
       "      <td>1700</td>\n",
       "      <td>9.9</td>\n",
       "    </tr>\n",
       "  </tbody>\n",
       "</table>\n",
       "</div>"
      ],
      "text/plain": [
       "   resoloution  ppi  cpu core  cpu freq  internal mem    ram  RearCam  \\\n",
       "0          5.2  424         8      1.35          16.0  3.000    13.00   \n",
       "1          4.0  233         2      1.30           4.0  1.000     3.15   \n",
       "2          4.7  312         4      1.20           8.0  1.500    13.00   \n",
       "3          4.0  233         2      1.30           4.0  0.512     3.15   \n",
       "4          4.0  233         2      1.30           4.0  1.000     3.15   \n",
       "\n",
       "   Front_Cam  battery  thickness  \n",
       "0        8.0     2610        7.4  \n",
       "1        0.0     1700        9.9  \n",
       "2        5.0     2000        7.6  \n",
       "3        0.0     1400       11.0  \n",
       "4        0.0     1700        9.9  "
      ]
     },
     "execution_count": 59,
     "metadata": {},
     "output_type": "execute_result"
    }
   ],
   "source": [
    "X=data.drop(\"Price\",axis=1)\n",
    "X.head()"
   ]
  },
  {
   "cell_type": "code",
   "execution_count": 60,
   "metadata": {},
   "outputs": [
    {
     "data": {
      "text/plain": [
       "0    2357\n",
       "1    1749\n",
       "2    1916\n",
       "3    1315\n",
       "4    1749\n",
       "Name: Price, dtype: int64"
      ]
     },
     "execution_count": 60,
     "metadata": {},
     "output_type": "execute_result"
    }
   ],
   "source": [
    "y=data.Price\n",
    "y.head()"
   ]
  },
  {
   "cell_type": "code",
   "execution_count": 61,
   "metadata": {},
   "outputs": [],
   "source": [
    "X_train,X_test,y_train,y_test=train_test_split(X,y,test_size=.20,random_state=14)"
   ]
  },
  {
   "cell_type": "code",
   "execution_count": 62,
   "metadata": {},
   "outputs": [
    {
     "data": {
      "text/plain": [
       "((128, 10), (33, 10), (128,), (33,))"
      ]
     },
     "execution_count": 62,
     "metadata": {},
     "output_type": "execute_result"
    }
   ],
   "source": [
    "X_train.shape,X_test.shape,y_train.shape,y_test.shape"
   ]
  },
  {
   "cell_type": "code",
   "execution_count": 63,
   "metadata": {},
   "outputs": [
    {
     "name": "stdout",
     "output_type": "stream",
     "text": [
      "Train RMSE = 166.48026911100868\n",
      "Test RMSE = 177.24593214339149\n",
      "Train R2_square = 0.9522051103136218\n",
      "Test R2_square = 0.9484259951293531\n"
     ]
    }
   ],
   "source": [
    "lr=LinearRegression()\n",
    "lr.fit(X_train,y_train)\n",
    "y_train_pre=lr.predict(X_train)\n",
    "y_test_pre=lr.predict(X_test)\n",
    "train_rmse=np.sqrt(mean_squared_error(y_train,y_train_pre))\n",
    "test_rmse=np.sqrt(mean_squared_error(y_test,y_test_pre))\n",
    "print(\"Train RMSE =\",train_rmse)\n",
    "print(\"Test RMSE =\",test_rmse)\n",
    "train_r2_score=r2_score(y_train,y_train_pre)\n",
    "test_r2_score=r2_score(y_test,y_test_pre)\n",
    "print(\"Train R2_square =\",train_r2_score)\n",
    "print(\"Test R2_square =\",test_r2_score)"
   ]
  },
  {
   "cell_type": "code",
   "execution_count": 64,
   "metadata": {},
   "outputs": [
    {
     "name": "stdout",
     "output_type": "stream",
     "text": [
      "Train RMSE = 0.0\n",
      "Test RMSE = 48.36916122464558\n",
      "Train R2_square = 1.0\n",
      "Test R2_square = 0.9961592555113611\n"
     ]
    }
   ],
   "source": [
    "DR=DecisionTreeRegressor(min_samples_leaf= 1,max_depth=11,max_features=\"auto\")\n",
    "DR.fit(X_train,y_train)\n",
    "y_train_pre=DR.predict(X_train)\n",
    "y_test_pre=DR.predict(X_test)\n",
    "train_rmse=np.sqrt(mean_squared_error(y_train,y_train_pre))\n",
    "test_rmse=np.sqrt(mean_squared_error(y_test,y_test_pre))\n",
    "print(\"Train RMSE =\",train_rmse)\n",
    "print(\"Test RMSE =\",test_rmse)\n",
    "train_r2_score=r2_score(y_train,y_train_pre)\n",
    "test_r2_score=r2_score(y_test,y_test_pre)\n",
    "print(\"Train R2_square =\",train_r2_score)\n",
    "print(\"Test R2_square =\",test_r2_score)"
   ]
  },
  {
   "cell_type": "code",
   "execution_count": 65,
   "metadata": {},
   "outputs": [
    {
     "name": "stdout",
     "output_type": "stream",
     "text": [
      "Train RMSE = 67.24505209493114\n",
      "Test RMSE = 144.332859191607\n",
      "Train R2_square = 0.9922021191702233\n",
      "Test R2_square = 0.9658013680471865\n"
     ]
    }
   ],
   "source": [
    "RF=RandomForestRegressor()\n",
    "RF.fit(X_train,y_train)\n",
    "y_train_pre=RF.predict(X_train)\n",
    "y_test_pre=RF.predict(X_test)\n",
    "train_rmse=np.sqrt(mean_squared_error(y_train,y_train_pre))\n",
    "test_rmse=np.sqrt(mean_squared_error(y_test,y_test_pre))\n",
    "print(\"Train RMSE =\",train_rmse)\n",
    "print(\"Test RMSE =\",test_rmse)\n",
    "train_r2_score=r2_score(y_train,y_train_pre)\n",
    "test_r2_score=r2_score(y_test,y_test_pre)\n",
    "print(\"Train R2_square =\",train_r2_score)\n",
    "print(\"Test R2_square =\",test_r2_score)"
   ]
  },
  {
   "cell_type": "code",
   "execution_count": null,
   "metadata": {},
   "outputs": [],
   "source": []
  },
  {
   "cell_type": "code",
   "execution_count": null,
   "metadata": {},
   "outputs": [],
   "source": []
  },
  {
   "cell_type": "code",
   "execution_count": null,
   "metadata": {},
   "outputs": [],
   "source": []
  },
  {
   "cell_type": "code",
   "execution_count": null,
   "metadata": {},
   "outputs": [],
   "source": []
  },
  {
   "cell_type": "code",
   "execution_count": null,
   "metadata": {},
   "outputs": [],
   "source": []
  },
  {
   "cell_type": "code",
   "execution_count": null,
   "metadata": {},
   "outputs": [],
   "source": []
  },
  {
   "cell_type": "code",
   "execution_count": null,
   "metadata": {},
   "outputs": [],
   "source": []
  },
  {
   "cell_type": "code",
   "execution_count": null,
   "metadata": {},
   "outputs": [],
   "source": []
  },
  {
   "cell_type": "code",
   "execution_count": null,
   "metadata": {},
   "outputs": [],
   "source": []
  },
  {
   "cell_type": "code",
   "execution_count": null,
   "metadata": {},
   "outputs": [],
   "source": []
  },
  {
   "cell_type": "code",
   "execution_count": null,
   "metadata": {},
   "outputs": [],
   "source": []
  },
  {
   "cell_type": "code",
   "execution_count": null,
   "metadata": {},
   "outputs": [],
   "source": []
  },
  {
   "cell_type": "code",
   "execution_count": null,
   "metadata": {},
   "outputs": [],
   "source": []
  },
  {
   "cell_type": "code",
   "execution_count": null,
   "metadata": {},
   "outputs": [],
   "source": []
  },
  {
   "cell_type": "code",
   "execution_count": null,
   "metadata": {},
   "outputs": [],
   "source": []
  },
  {
   "cell_type": "code",
   "execution_count": null,
   "metadata": {},
   "outputs": [],
   "source": []
  },
  {
   "cell_type": "code",
   "execution_count": null,
   "metadata": {},
   "outputs": [],
   "source": []
  },
  {
   "cell_type": "code",
   "execution_count": null,
   "metadata": {},
   "outputs": [],
   "source": []
  },
  {
   "cell_type": "code",
   "execution_count": null,
   "metadata": {},
   "outputs": [],
   "source": []
  },
  {
   "cell_type": "code",
   "execution_count": null,
   "metadata": {},
   "outputs": [],
   "source": []
  },
  {
   "cell_type": "code",
   "execution_count": null,
   "metadata": {},
   "outputs": [],
   "source": []
  },
  {
   "cell_type": "code",
   "execution_count": null,
   "metadata": {},
   "outputs": [],
   "source": []
  },
  {
   "cell_type": "code",
   "execution_count": null,
   "metadata": {},
   "outputs": [],
   "source": []
  },
  {
   "cell_type": "code",
   "execution_count": null,
   "metadata": {},
   "outputs": [],
   "source": []
  },
  {
   "cell_type": "code",
   "execution_count": null,
   "metadata": {},
   "outputs": [],
   "source": []
  },
  {
   "cell_type": "code",
   "execution_count": null,
   "metadata": {},
   "outputs": [],
   "source": []
  },
  {
   "cell_type": "code",
   "execution_count": null,
   "metadata": {},
   "outputs": [],
   "source": []
  },
  {
   "cell_type": "code",
   "execution_count": null,
   "metadata": {},
   "outputs": [],
   "source": []
  },
  {
   "cell_type": "code",
   "execution_count": null,
   "metadata": {},
   "outputs": [],
   "source": []
  },
  {
   "cell_type": "code",
   "execution_count": null,
   "metadata": {},
   "outputs": [],
   "source": []
  },
  {
   "cell_type": "code",
   "execution_count": null,
   "metadata": {},
   "outputs": [],
   "source": []
  },
  {
   "cell_type": "code",
   "execution_count": null,
   "metadata": {},
   "outputs": [],
   "source": []
  }
 ],
 "metadata": {
  "kernelspec": {
   "display_name": "Python 3",
   "language": "python",
   "name": "python3"
  },
  "language_info": {
   "codemirror_mode": {
    "name": "ipython",
    "version": 3
   },
   "file_extension": ".py",
   "mimetype": "text/x-python",
   "name": "python",
   "nbconvert_exporter": "python",
   "pygments_lexer": "ipython3",
   "version": "3.7.0"
  }
 },
 "nbformat": 4,
 "nbformat_minor": 2
}
